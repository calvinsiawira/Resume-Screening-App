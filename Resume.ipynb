{
 "cells": [
  {
   "cell_type": "code",
   "execution_count": 225,
   "metadata": {},
   "outputs": [],
   "source": [
    "#%pip install xgboost\n",
    "#%pip install scikit-learn"
   ]
  },
  {
   "cell_type": "code",
   "execution_count": 226,
   "metadata": {},
   "outputs": [],
   "source": [
    "import pandas as pd\n",
    "import numpy as np\n",
    "import seaborn as sns\n",
    "import matplotlib.pyplot as plt\n",
    "\n",
    "\n",
    "\n",
    "from sklearn.linear_model import LinearRegression\n",
    "from sklearn.neighbors import KNeighborsRegressor\n",
    "from sklearn.tree import DecisionTreeRegressor\n",
    "from sklearn.ensemble import RandomForestRegressor"
   ]
  },
  {
   "cell_type": "code",
   "execution_count": 227,
   "metadata": {},
   "outputs": [
    {
     "data": {
      "text/html": [
       "<div>\n",
       "<style scoped>\n",
       "    .dataframe tbody tr th:only-of-type {\n",
       "        vertical-align: middle;\n",
       "    }\n",
       "\n",
       "    .dataframe tbody tr th {\n",
       "        vertical-align: top;\n",
       "    }\n",
       "\n",
       "    .dataframe thead th {\n",
       "        text-align: right;\n",
       "    }\n",
       "</style>\n",
       "<table border=\"1\" class=\"dataframe\">\n",
       "  <thead>\n",
       "    <tr style=\"text-align: right;\">\n",
       "      <th></th>\n",
       "      <th>ID</th>\n",
       "      <th>Resume_str</th>\n",
       "      <th>Resume_html</th>\n",
       "      <th>Category</th>\n",
       "    </tr>\n",
       "  </thead>\n",
       "  <tbody>\n",
       "    <tr>\n",
       "      <th>0</th>\n",
       "      <td>16852973</td>\n",
       "      <td>HR ADMINISTRATOR/MARKETING ASSOCIATE\\...</td>\n",
       "      <td>&lt;div class=\"fontsize fontface vmargins hmargin...</td>\n",
       "      <td>HR</td>\n",
       "    </tr>\n",
       "    <tr>\n",
       "      <th>1</th>\n",
       "      <td>22323967</td>\n",
       "      <td>HR SPECIALIST, US HR OPERATIONS      ...</td>\n",
       "      <td>&lt;div class=\"fontsize fontface vmargins hmargin...</td>\n",
       "      <td>HR</td>\n",
       "    </tr>\n",
       "    <tr>\n",
       "      <th>2</th>\n",
       "      <td>33176873</td>\n",
       "      <td>HR DIRECTOR       Summary      Over 2...</td>\n",
       "      <td>&lt;div class=\"fontsize fontface vmargins hmargin...</td>\n",
       "      <td>HR</td>\n",
       "    </tr>\n",
       "    <tr>\n",
       "      <th>3</th>\n",
       "      <td>27018550</td>\n",
       "      <td>HR SPECIALIST       Summary    Dedica...</td>\n",
       "      <td>&lt;div class=\"fontsize fontface vmargins hmargin...</td>\n",
       "      <td>HR</td>\n",
       "    </tr>\n",
       "    <tr>\n",
       "      <th>4</th>\n",
       "      <td>17812897</td>\n",
       "      <td>HR MANAGER         Skill Highlights  ...</td>\n",
       "      <td>&lt;div class=\"fontsize fontface vmargins hmargin...</td>\n",
       "      <td>HR</td>\n",
       "    </tr>\n",
       "  </tbody>\n",
       "</table>\n",
       "</div>"
      ],
      "text/plain": [
       "         ID                                         Resume_str  \\\n",
       "0  16852973           HR ADMINISTRATOR/MARKETING ASSOCIATE\\...   \n",
       "1  22323967           HR SPECIALIST, US HR OPERATIONS      ...   \n",
       "2  33176873           HR DIRECTOR       Summary      Over 2...   \n",
       "3  27018550           HR SPECIALIST       Summary    Dedica...   \n",
       "4  17812897           HR MANAGER         Skill Highlights  ...   \n",
       "\n",
       "                                         Resume_html Category  \n",
       "0  <div class=\"fontsize fontface vmargins hmargin...       HR  \n",
       "1  <div class=\"fontsize fontface vmargins hmargin...       HR  \n",
       "2  <div class=\"fontsize fontface vmargins hmargin...       HR  \n",
       "3  <div class=\"fontsize fontface vmargins hmargin...       HR  \n",
       "4  <div class=\"fontsize fontface vmargins hmargin...       HR  "
      ]
     },
     "metadata": {},
     "output_type": "display_data"
    },
    {
     "data": {
      "text/html": [
       "<div>\n",
       "<style scoped>\n",
       "    .dataframe tbody tr th:only-of-type {\n",
       "        vertical-align: middle;\n",
       "    }\n",
       "\n",
       "    .dataframe tbody tr th {\n",
       "        vertical-align: top;\n",
       "    }\n",
       "\n",
       "    .dataframe thead th {\n",
       "        text-align: right;\n",
       "    }\n",
       "</style>\n",
       "<table border=\"1\" class=\"dataframe\">\n",
       "  <thead>\n",
       "    <tr style=\"text-align: right;\">\n",
       "      <th></th>\n",
       "      <th>ID</th>\n",
       "      <th>Resume_str</th>\n",
       "      <th>Resume_html</th>\n",
       "      <th>Category</th>\n",
       "    </tr>\n",
       "  </thead>\n",
       "  <tbody>\n",
       "    <tr>\n",
       "      <th>2479</th>\n",
       "      <td>99416532</td>\n",
       "      <td>RANK: SGT/E-5 NON- COMMISSIONED OFFIC...</td>\n",
       "      <td>&lt;div class=\"fontsize fontface vmargins hmargin...</td>\n",
       "      <td>AVIATION</td>\n",
       "    </tr>\n",
       "    <tr>\n",
       "      <th>2480</th>\n",
       "      <td>24589765</td>\n",
       "      <td>GOVERNMENT RELATIONS, COMMUNICATIONS ...</td>\n",
       "      <td>&lt;div class=\"fontsize fontface vmargins hmargin...</td>\n",
       "      <td>AVIATION</td>\n",
       "    </tr>\n",
       "    <tr>\n",
       "      <th>2481</th>\n",
       "      <td>31605080</td>\n",
       "      <td>GEEK SQUAD AGENT         Professional...</td>\n",
       "      <td>&lt;div class=\"fontsize fontface vmargins hmargin...</td>\n",
       "      <td>AVIATION</td>\n",
       "    </tr>\n",
       "    <tr>\n",
       "      <th>2482</th>\n",
       "      <td>21190805</td>\n",
       "      <td>PROGRAM DIRECTOR / OFFICE MANAGER    ...</td>\n",
       "      <td>&lt;div class=\"fontsize fontface vmargins hmargin...</td>\n",
       "      <td>AVIATION</td>\n",
       "    </tr>\n",
       "    <tr>\n",
       "      <th>2483</th>\n",
       "      <td>37473139</td>\n",
       "      <td>STOREKEEPER II       Professional Sum...</td>\n",
       "      <td>&lt;div class=\"fontsize fontface vmargins hmargin...</td>\n",
       "      <td>AVIATION</td>\n",
       "    </tr>\n",
       "  </tbody>\n",
       "</table>\n",
       "</div>"
      ],
      "text/plain": [
       "            ID                                         Resume_str  \\\n",
       "2479  99416532           RANK: SGT/E-5 NON- COMMISSIONED OFFIC...   \n",
       "2480  24589765           GOVERNMENT RELATIONS, COMMUNICATIONS ...   \n",
       "2481  31605080           GEEK SQUAD AGENT         Professional...   \n",
       "2482  21190805           PROGRAM DIRECTOR / OFFICE MANAGER    ...   \n",
       "2483  37473139           STOREKEEPER II       Professional Sum...   \n",
       "\n",
       "                                            Resume_html  Category  \n",
       "2479  <div class=\"fontsize fontface vmargins hmargin...  AVIATION  \n",
       "2480  <div class=\"fontsize fontface vmargins hmargin...  AVIATION  \n",
       "2481  <div class=\"fontsize fontface vmargins hmargin...  AVIATION  \n",
       "2482  <div class=\"fontsize fontface vmargins hmargin...  AVIATION  \n",
       "2483  <div class=\"fontsize fontface vmargins hmargin...  AVIATION  "
      ]
     },
     "metadata": {},
     "output_type": "display_data"
    }
   ],
   "source": [
    "df = pd.read_csv(\"Resume.csv\")\n",
    "display(df.head(5),df.tail(5))"
   ]
  },
  {
   "cell_type": "code",
   "execution_count": 228,
   "metadata": {},
   "outputs": [
    {
     "name": "stdout",
     "output_type": "stream",
     "text": [
      "<class 'pandas.core.frame.DataFrame'>\n",
      "RangeIndex: 2484 entries, 0 to 2483\n",
      "Data columns (total 4 columns):\n",
      " #   Column       Non-Null Count  Dtype \n",
      "---  ------       --------------  ----- \n",
      " 0   ID           2484 non-null   int64 \n",
      " 1   Resume_str   2484 non-null   object\n",
      " 2   Resume_html  2484 non-null   object\n",
      " 3   Category     2484 non-null   object\n",
      "dtypes: int64(1), object(3)\n",
      "memory usage: 77.8+ KB\n"
     ]
    }
   ],
   "source": [
    "df.info()"
   ]
  },
  {
   "cell_type": "markdown",
   "metadata": {},
   "source": [
    "### Check for duplicates"
   ]
  },
  {
   "cell_type": "code",
   "execution_count": 229,
   "metadata": {},
   "outputs": [
    {
     "data": {
      "text/plain": [
       "np.int64(0)"
      ]
     },
     "execution_count": 229,
     "metadata": {},
     "output_type": "execute_result"
    }
   ],
   "source": [
    "df.duplicated().sum()"
   ]
  },
  {
   "cell_type": "markdown",
   "metadata": {},
   "source": [
    "### Drop columns 'ID' and 'Resume_html'"
   ]
  },
  {
   "cell_type": "code",
   "execution_count": 230,
   "metadata": {},
   "outputs": [],
   "source": [
    "df.drop(['ID','Resume_html'], axis=1, inplace=True)"
   ]
  },
  {
   "cell_type": "markdown",
   "metadata": {},
   "source": [
    "### Cleaned Data"
   ]
  },
  {
   "cell_type": "code",
   "execution_count": 231,
   "metadata": {},
   "outputs": [
    {
     "data": {
      "text/html": [
       "<div>\n",
       "<style scoped>\n",
       "    .dataframe tbody tr th:only-of-type {\n",
       "        vertical-align: middle;\n",
       "    }\n",
       "\n",
       "    .dataframe tbody tr th {\n",
       "        vertical-align: top;\n",
       "    }\n",
       "\n",
       "    .dataframe thead th {\n",
       "        text-align: right;\n",
       "    }\n",
       "</style>\n",
       "<table border=\"1\" class=\"dataframe\">\n",
       "  <thead>\n",
       "    <tr style=\"text-align: right;\">\n",
       "      <th></th>\n",
       "      <th>Resume_str</th>\n",
       "      <th>Category</th>\n",
       "    </tr>\n",
       "  </thead>\n",
       "  <tbody>\n",
       "    <tr>\n",
       "      <th>0</th>\n",
       "      <td>HR ADMINISTRATOR/MARKETING ASSOCIATE\\...</td>\n",
       "      <td>HR</td>\n",
       "    </tr>\n",
       "    <tr>\n",
       "      <th>1</th>\n",
       "      <td>HR SPECIALIST, US HR OPERATIONS      ...</td>\n",
       "      <td>HR</td>\n",
       "    </tr>\n",
       "    <tr>\n",
       "      <th>2</th>\n",
       "      <td>HR DIRECTOR       Summary      Over 2...</td>\n",
       "      <td>HR</td>\n",
       "    </tr>\n",
       "    <tr>\n",
       "      <th>3</th>\n",
       "      <td>HR SPECIALIST       Summary    Dedica...</td>\n",
       "      <td>HR</td>\n",
       "    </tr>\n",
       "    <tr>\n",
       "      <th>4</th>\n",
       "      <td>HR MANAGER         Skill Highlights  ...</td>\n",
       "      <td>HR</td>\n",
       "    </tr>\n",
       "    <tr>\n",
       "      <th>...</th>\n",
       "      <td>...</td>\n",
       "      <td>...</td>\n",
       "    </tr>\n",
       "    <tr>\n",
       "      <th>2479</th>\n",
       "      <td>RANK: SGT/E-5 NON- COMMISSIONED OFFIC...</td>\n",
       "      <td>AVIATION</td>\n",
       "    </tr>\n",
       "    <tr>\n",
       "      <th>2480</th>\n",
       "      <td>GOVERNMENT RELATIONS, COMMUNICATIONS ...</td>\n",
       "      <td>AVIATION</td>\n",
       "    </tr>\n",
       "    <tr>\n",
       "      <th>2481</th>\n",
       "      <td>GEEK SQUAD AGENT         Professional...</td>\n",
       "      <td>AVIATION</td>\n",
       "    </tr>\n",
       "    <tr>\n",
       "      <th>2482</th>\n",
       "      <td>PROGRAM DIRECTOR / OFFICE MANAGER    ...</td>\n",
       "      <td>AVIATION</td>\n",
       "    </tr>\n",
       "    <tr>\n",
       "      <th>2483</th>\n",
       "      <td>STOREKEEPER II       Professional Sum...</td>\n",
       "      <td>AVIATION</td>\n",
       "    </tr>\n",
       "  </tbody>\n",
       "</table>\n",
       "<p>2484 rows × 2 columns</p>\n",
       "</div>"
      ],
      "text/plain": [
       "                                             Resume_str  Category\n",
       "0              HR ADMINISTRATOR/MARKETING ASSOCIATE\\...        HR\n",
       "1              HR SPECIALIST, US HR OPERATIONS      ...        HR\n",
       "2              HR DIRECTOR       Summary      Over 2...        HR\n",
       "3              HR SPECIALIST       Summary    Dedica...        HR\n",
       "4              HR MANAGER         Skill Highlights  ...        HR\n",
       "...                                                 ...       ...\n",
       "2479           RANK: SGT/E-5 NON- COMMISSIONED OFFIC...  AVIATION\n",
       "2480           GOVERNMENT RELATIONS, COMMUNICATIONS ...  AVIATION\n",
       "2481           GEEK SQUAD AGENT         Professional...  AVIATION\n",
       "2482           PROGRAM DIRECTOR / OFFICE MANAGER    ...  AVIATION\n",
       "2483           STOREKEEPER II       Professional Sum...  AVIATION\n",
       "\n",
       "[2484 rows x 2 columns]"
      ]
     },
     "execution_count": 231,
     "metadata": {},
     "output_type": "execute_result"
    }
   ],
   "source": [
    "df"
   ]
  },
  {
   "cell_type": "markdown",
   "metadata": {},
   "source": [
    "### Create a new column 'label' that indicates whether a candidate passed the interview (1: passed; 0: fail)\n",
    "* Assume that only 10% of the total applications passed: 248 out of 2483.\n",
    "* So there's 248 '1s' and the rests is '0s'"
   ]
  },
  {
   "cell_type": "code",
   "execution_count": 232,
   "metadata": {},
   "outputs": [],
   "source": [
    "# Calculate the number of rows and the target number of 1s\n",
    "num_rows = len(df)\n",
    "num_ones = int(0.3 * num_rows)\n",
    "\n",
    "# Create a NumPy array with the desired distribution of 0s and 1s\n",
    "new_column_values = np.zeros(num_rows)\n",
    "new_column_values[:num_ones] = 1\n",
    "np.random.shuffle(new_column_values)\n",
    "\n",
    "# Add the new column to the DataFrame\n",
    "df['Label'] = new_column_values"
   ]
  },
  {
   "cell_type": "markdown",
   "metadata": {},
   "source": [
    "### Our revised dataset\n",
    "* There are 3 columns: \n",
    "    * Resume_str: contains the resume text only in string format\n",
    "    * Category: type of industry of the candidates\n",
    "    * Lable: passed or failed the interview"
   ]
  },
  {
   "cell_type": "code",
   "execution_count": 233,
   "metadata": {},
   "outputs": [
    {
     "data": {
      "text/html": [
       "<div>\n",
       "<style scoped>\n",
       "    .dataframe tbody tr th:only-of-type {\n",
       "        vertical-align: middle;\n",
       "    }\n",
       "\n",
       "    .dataframe tbody tr th {\n",
       "        vertical-align: top;\n",
       "    }\n",
       "\n",
       "    .dataframe thead th {\n",
       "        text-align: right;\n",
       "    }\n",
       "</style>\n",
       "<table border=\"1\" class=\"dataframe\">\n",
       "  <thead>\n",
       "    <tr style=\"text-align: right;\">\n",
       "      <th></th>\n",
       "      <th>Resume_str</th>\n",
       "      <th>Category</th>\n",
       "      <th>Label</th>\n",
       "    </tr>\n",
       "  </thead>\n",
       "  <tbody>\n",
       "    <tr>\n",
       "      <th>0</th>\n",
       "      <td>HR ADMINISTRATOR/MARKETING ASSOCIATE\\...</td>\n",
       "      <td>HR</td>\n",
       "      <td>0.0</td>\n",
       "    </tr>\n",
       "    <tr>\n",
       "      <th>1</th>\n",
       "      <td>HR SPECIALIST, US HR OPERATIONS      ...</td>\n",
       "      <td>HR</td>\n",
       "      <td>0.0</td>\n",
       "    </tr>\n",
       "    <tr>\n",
       "      <th>2</th>\n",
       "      <td>HR DIRECTOR       Summary      Over 2...</td>\n",
       "      <td>HR</td>\n",
       "      <td>1.0</td>\n",
       "    </tr>\n",
       "    <tr>\n",
       "      <th>3</th>\n",
       "      <td>HR SPECIALIST       Summary    Dedica...</td>\n",
       "      <td>HR</td>\n",
       "      <td>0.0</td>\n",
       "    </tr>\n",
       "    <tr>\n",
       "      <th>4</th>\n",
       "      <td>HR MANAGER         Skill Highlights  ...</td>\n",
       "      <td>HR</td>\n",
       "      <td>1.0</td>\n",
       "    </tr>\n",
       "    <tr>\n",
       "      <th>...</th>\n",
       "      <td>...</td>\n",
       "      <td>...</td>\n",
       "      <td>...</td>\n",
       "    </tr>\n",
       "    <tr>\n",
       "      <th>2479</th>\n",
       "      <td>RANK: SGT/E-5 NON- COMMISSIONED OFFIC...</td>\n",
       "      <td>AVIATION</td>\n",
       "      <td>1.0</td>\n",
       "    </tr>\n",
       "    <tr>\n",
       "      <th>2480</th>\n",
       "      <td>GOVERNMENT RELATIONS, COMMUNICATIONS ...</td>\n",
       "      <td>AVIATION</td>\n",
       "      <td>0.0</td>\n",
       "    </tr>\n",
       "    <tr>\n",
       "      <th>2481</th>\n",
       "      <td>GEEK SQUAD AGENT         Professional...</td>\n",
       "      <td>AVIATION</td>\n",
       "      <td>0.0</td>\n",
       "    </tr>\n",
       "    <tr>\n",
       "      <th>2482</th>\n",
       "      <td>PROGRAM DIRECTOR / OFFICE MANAGER    ...</td>\n",
       "      <td>AVIATION</td>\n",
       "      <td>0.0</td>\n",
       "    </tr>\n",
       "    <tr>\n",
       "      <th>2483</th>\n",
       "      <td>STOREKEEPER II       Professional Sum...</td>\n",
       "      <td>AVIATION</td>\n",
       "      <td>0.0</td>\n",
       "    </tr>\n",
       "  </tbody>\n",
       "</table>\n",
       "<p>2484 rows × 3 columns</p>\n",
       "</div>"
      ],
      "text/plain": [
       "                                             Resume_str  Category  Label\n",
       "0              HR ADMINISTRATOR/MARKETING ASSOCIATE\\...        HR    0.0\n",
       "1              HR SPECIALIST, US HR OPERATIONS      ...        HR    0.0\n",
       "2              HR DIRECTOR       Summary      Over 2...        HR    1.0\n",
       "3              HR SPECIALIST       Summary    Dedica...        HR    0.0\n",
       "4              HR MANAGER         Skill Highlights  ...        HR    1.0\n",
       "...                                                 ...       ...    ...\n",
       "2479           RANK: SGT/E-5 NON- COMMISSIONED OFFIC...  AVIATION    1.0\n",
       "2480           GOVERNMENT RELATIONS, COMMUNICATIONS ...  AVIATION    0.0\n",
       "2481           GEEK SQUAD AGENT         Professional...  AVIATION    0.0\n",
       "2482           PROGRAM DIRECTOR / OFFICE MANAGER    ...  AVIATION    0.0\n",
       "2483           STOREKEEPER II       Professional Sum...  AVIATION    0.0\n",
       "\n",
       "[2484 rows x 3 columns]"
      ]
     },
     "execution_count": 233,
     "metadata": {},
     "output_type": "execute_result"
    }
   ],
   "source": [
    "df"
   ]
  },
  {
   "cell_type": "markdown",
   "metadata": {},
   "source": [
    "### Column 'Resume_str'"
   ]
  },
  {
   "cell_type": "code",
   "execution_count": 234,
   "metadata": {},
   "outputs": [
    {
     "data": {
      "text/plain": [
       "\"         HR ADMINISTRATOR/MARKETING ASSOCIATE\\n\\nHR ADMINISTRATOR       Summary     Dedicated Customer Service Manager with 15+ years of experience in Hospitality and Customer Service Management.   Respected builder and leader of customer-focused teams; strives to instill a shared, enthusiastic commitment to customer service.         Highlights         Focused on customer satisfaction  Team management  Marketing savvy  Conflict resolution techniques     Training and development  Skilled multi-tasker  Client relations specialist           Accomplishments      Missouri DOT Supervisor Training Certification  Certified by IHG in Customer Loyalty and Marketing by Segment   Hilton Worldwide General Manager Training Certification  Accomplished Trainer for cross server hospitality systems such as    Hilton OnQ  ,   Micros    Opera PMS   , Fidelio    OPERA    Reservation System (ORS) ,   Holidex    Completed courses and seminars in customer service, sales strategies, inventory control, loss prevention, safety, time management, leadership and performance assessment.        Experience      HR Administrator/Marketing Associate\\n\\nHR Administrator     Dec 2013   to   Current      Company Name   －   City  ,   State     Helps to develop policies, directs and coordinates activities such as employment, compensation, labor relations, benefits, training, and employee services.  Prepares employee separation notices and related documentation  Keeps records of benefits plans participation such as insurance and pension plan, personnel transactions such as hires, promotions, transfers, performance reviews, and terminations, and employee statistics for government reporting.  Advises management in appropriate resolution of employee relations issues.  Administers benefits programs such as life, health, dental, insurance, pension plans, vacation, sick leave, leave of absence, and employee assistance.     Marketing Associate \\xa0   Designed and created marketing collateral for sales meetings, trade shows and company executives.  Managed the in-house advertising program consisting of print and media collateral pieces.  Assisted in the complete design and launch of the company's website in 2 months.  Created an official company page on Facebook to facilitate interaction with customers.  Analyzed ratings and programming features of competitors to evaluate the effectiveness of marketing strategies.         Advanced Medical Claims Analyst     Mar 2012   to   Dec 2013      Company Name   －   City  ,   State     Reviewed medical bills for the accuracy of the treatments, tests, and hospital stays prior to sanctioning the claims.  Trained to interpret the codes (ICD-9, CPT) and terminology commonly used in medical billing to fully understand the paperwork that is submitted by healthcare providers.  Required to have organizational and analytical skills as well as computer skills, knowledge of medical terminology and procedures, statistics, billing standards, data analysis and laws regarding medical billing.         Assistant General Manager     Jun 2010   to   Dec 2010      Company Name   －   City  ,   State     Performed duties including but not limited to, budgeting and financial management, accounting, human resources, payroll and purchasing.  Established and maintained close working relationships with all departments of the hotel to ensure maximum operation, productivity, morale and guest service.  Handled daily operations and reported directly to the corporate office.  Hired and trained staff on overall objectives and goals with an emphasis on high customer service.  Marketing and Advertising, working on public relations with the media, government and local businesses and Chamber of Commerce.         Executive Support / Marketing Assistant     Jul 2007   to   Jun 2010      Company Name   －   City  ,   State     Provided assistance to various department heads - Executive, Marketing, Customer Service, Human Resources.  Managed front-end operations to ensure friendly and efficient transactions.  Ensured the swift resolution of customer issues to preserve customer loyalty while complying with company policies.  Exemplified the second-to-none customer service delivery in all interactions with customers and potential clients.         Reservation & Front Office Manager     Jun 2004   to   Jul 2007      Company Name   －   City  ,   State          Owner/ Partner     Dec 2001   to   May 2004      Company Name   －   City  ,   State          Price Integrity Coordinator     Aug 1999   to   Dec 2001      Company Name   －   City  ,   State          Education      N/A  ,   Business Administration   1999     Jefferson College   －   City  ,   State       Business Administration  Marketing / Advertising         High School Diploma  ,   College Prep. studies   1998     Sainte Genevieve Senior High   －   City  ,   State       Awarded American Shrubel Leadership Scholarship to Jefferson College         Skills     Accounting, ads, advertising, analytical skills, benefits, billing, budgeting, clients, Customer Service, data analysis, delivery, documentation, employee relations, financial management, government relations, Human Resources, insurance, labor relations, layout, Marketing, marketing collateral, medical billing, medical terminology, office, organizational, payroll, performance reviews, personnel, policies, posters, presentations, public relations, purchasing, reporting, statistics, website.    \""
      ]
     },
     "execution_count": 234,
     "metadata": {},
     "output_type": "execute_result"
    }
   ],
   "source": [
    "df['Resume_str'][0]"
   ]
  },
  {
   "cell_type": "markdown",
   "metadata": {},
   "source": [
    "Observation: very straightforward. This columns contain the resume in text in string format"
   ]
  },
  {
   "cell_type": "markdown",
   "metadata": {},
   "source": [
    "### Column 'Category'"
   ]
  },
  {
   "cell_type": "code",
   "execution_count": 235,
   "metadata": {},
   "outputs": [
    {
     "data": {
      "text/plain": [
       "array(['HR', 'DESIGNER', 'INFORMATION-TECHNOLOGY', 'TEACHER', 'ADVOCATE',\n",
       "       'BUSINESS-DEVELOPMENT', 'HEALTHCARE', 'FITNESS', 'AGRICULTURE',\n",
       "       'BPO', 'SALES', 'CONSULTANT', 'DIGITAL-MEDIA', 'AUTOMOBILE',\n",
       "       'CHEF', 'FINANCE', 'APPAREL', 'ENGINEERING', 'ACCOUNTANT',\n",
       "       'CONSTRUCTION', 'PUBLIC-RELATIONS', 'BANKING', 'ARTS', 'AVIATION'],\n",
       "      dtype=object)"
      ]
     },
     "metadata": {},
     "output_type": "display_data"
    },
    {
     "data": {
      "text/plain": [
       "24"
      ]
     },
     "metadata": {},
     "output_type": "display_data"
    }
   ],
   "source": [
    "display(df['Category'].unique(), df['Category'].nunique())"
   ]
  },
  {
   "cell_type": "markdown",
   "metadata": {},
   "source": [
    "Observations: there are 24 unique industry category "
   ]
  },
  {
   "cell_type": "code",
   "execution_count": 236,
   "metadata": {},
   "outputs": [
    {
     "data": {
      "text/plain": [
       "Category\n",
       "INFORMATION-TECHNOLOGY    120\n",
       "BUSINESS-DEVELOPMENT      120\n",
       "ADVOCATE                  118\n",
       "CHEF                      118\n",
       "ENGINEERING               118\n",
       "ACCOUNTANT                118\n",
       "FINANCE                   118\n",
       "FITNESS                   117\n",
       "AVIATION                  117\n",
       "SALES                     116\n",
       "BANKING                   115\n",
       "HEALTHCARE                115\n",
       "CONSULTANT                115\n",
       "CONSTRUCTION              112\n",
       "PUBLIC-RELATIONS          111\n",
       "HR                        110\n",
       "DESIGNER                  107\n",
       "ARTS                      103\n",
       "TEACHER                   102\n",
       "APPAREL                    97\n",
       "DIGITAL-MEDIA              96\n",
       "AGRICULTURE                63\n",
       "AUTOMOBILE                 36\n",
       "BPO                        22\n",
       "Name: count, dtype: int64"
      ]
     },
     "execution_count": 236,
     "metadata": {},
     "output_type": "execute_result"
    }
   ],
   "source": [
    "df['Category'].value_counts()"
   ]
  },
  {
   "cell_type": "markdown",
   "metadata": {},
   "source": [
    "Observation: As we can see from the number of times each industry category appeared, there are 3 categories that appeared significantly less than the others. These 3 categories are: 'Agriculture', 'Automobile', and 'BPO'"
   ]
  },
  {
   "cell_type": "markdown",
   "metadata": {},
   "source": [
    "### Column 'Label'"
   ]
  },
  {
   "cell_type": "code",
   "execution_count": 237,
   "metadata": {},
   "outputs": [
    {
     "data": {
      "text/plain": [
       "Label\n",
       "0.0    1739\n",
       "1.0     745\n",
       "Name: count, dtype: int64"
      ]
     },
     "execution_count": 237,
     "metadata": {},
     "output_type": "execute_result"
    }
   ],
   "source": [
    "df['Label'].value_counts()"
   ]
  },
  {
   "cell_type": "markdown",
   "metadata": {},
   "source": [
    "Observation: 10% of the applicants (248) has passed the interview indicated by the label '1s'"
   ]
  },
  {
   "cell_type": "markdown",
   "metadata": {},
   "source": [
    "## Cleaning data\n",
    "\n",
    "In our dataset, the column 'Resume_str' is the predictor variable. The 'Category' and 'Label' columns are the outcome variable.\n",
    "In this data cleaning part, we want to focus on the predictor variable, which is the 'Resume_str' column. \n",
    "\n",
    "As the text in a resume may consists of many types of words/letters, would want to remove a few things that are irrelevant, such as:\n",
    "1. URLS\n",
    "2. Hashtags\n",
    "3. Mentions\n",
    "4. Punctuation and Special Letters\n",
    "5. Non-ASCII characters \n",
    "6. Spaces\n",
    "7. Stopwords (will be removed in the tf-idf section later)"
   ]
  },
  {
   "cell_type": "code",
   "execution_count": 238,
   "metadata": {},
   "outputs": [],
   "source": [
    "import re\n",
    "\n",
    "def cleanResume(txt):\n",
    "    #URls: start with http, then matches one or more non-white space characters\n",
    "    cleanTxt = re.sub('http\\\\S+',' ', txt)  \n",
    "    #Hashtags: start with #, then matches one or more non-white space characters\n",
    "    cleanTxt = re.sub('#\\\\S+',' ', cleanTxt)\n",
    "    #Mentions: start with #, then matches one or more non-white space characters\n",
    "    cleanTxt = re.sub('@\\\\S+',' ', cleanTxt)\n",
    "    #Remove punctuation marks and other special characters from the text\n",
    "    cleanTxt = re.sub(r'[^\\w\\s]', ' ', cleanTxt)\n",
    "    #Remove any non-ASCII characters \n",
    "    cleanTxt = re.sub(r'[^\\x00-\\x7f]',' ', cleanTxt)    \n",
    "    #Substitute 1 or more than 1 white space with 1 space\n",
    "    cleanTxt = re.sub('\\\\s+',' ', cleanTxt)\n",
    "    return cleanTxt"
   ]
  },
  {
   "cell_type": "code",
   "execution_count": 239,
   "metadata": {},
   "outputs": [
    {
     "data": {
      "text/plain": [
       "0        HR ADMINISTRATOR MARKETING ASSOCIATE HR ADMIN...\n",
       "1        HR SPECIALIST US HR OPERATIONS Summary Versat...\n",
       "2        HR DIRECTOR Summary Over 20 years experience ...\n",
       "3        HR SPECIALIST Summary Dedicated Driven and Dy...\n",
       "4        HR MANAGER Skill Highlights HR SKILLS HR Depa...\n",
       "                              ...                        \n",
       "2479     RANK SGT E 5 NON COMMISSIONED OFFICER IN CHAR...\n",
       "2480     GOVERNMENT RELATIONS COMMUNICATIONS AND ORGAN...\n",
       "2481     GEEK SQUAD AGENT Professional Profile IT supp...\n",
       "2482     PROGRAM DIRECTOR OFFICE MANAGER Summary Highl...\n",
       "2483     STOREKEEPER II Professional Summary The purpo...\n",
       "Name: Resume_str, Length: 2484, dtype: object"
      ]
     },
     "execution_count": 239,
     "metadata": {},
     "output_type": "execute_result"
    }
   ],
   "source": [
    "df['Resume_str'] = df['Resume_str'].apply(lambda x: cleanResume(x))\n",
    "df['Resume_str']"
   ]
  },
  {
   "cell_type": "markdown",
   "metadata": {},
   "source": [
    "### TF-IDF the column 'Resume_str'\n",
    "\n",
    "Essentially, tf-idf assess the importance of words in a document relative to a collection of documents. It helps to identify the most relevant words in a text by considering both how often a word appears in a document (term frequency) and how rare it is across the entire collection of documents (inverse document frequency). "
   ]
  },
  {
   "cell_type": "code",
   "execution_count": 240,
   "metadata": {},
   "outputs": [],
   "source": [
    "from sklearn.feature_extraction.text import TfidfVectorizer\n",
    "tfidf = TfidfVectorizer(stop_words='english')\n",
    "tfidf.fit(df['Resume_str'])\n",
    "\n",
    "finaltext = tfidf.transform(df['Resume_str'])"
   ]
  },
  {
   "cell_type": "code",
   "execution_count": 241,
   "metadata": {},
   "outputs": [
    {
     "data": {
      "text/plain": [
       "<Compressed Sparse Row sparse matrix of dtype 'float64'\n",
       "\twith 805156 stored elements and shape (2484, 40033)>"
      ]
     },
     "execution_count": 241,
     "metadata": {},
     "output_type": "execute_result"
    }
   ],
   "source": [
    "finaltext"
   ]
  },
  {
   "cell_type": "markdown",
   "metadata": {},
   "source": [
    "Observations: Our predictor variable has been transformed into a matrix format where there are 40033 columns (each column represents 1 word) and the values are the tf-idf value. "
   ]
  },
  {
   "cell_type": "markdown",
   "metadata": {},
   "source": [
    "## Data Processing\n",
    "There are 2 variables we would want to predict:\n",
    "* 'Category': to predict which category a resume belongs to (classification)\n",
    "* 'Label': to predict the probability that a candidate is likely to do well in the interview (regression)"
   ]
  },
  {
   "cell_type": "markdown",
   "metadata": {},
   "source": [
    "## Modeling & Evaluation (Predicting Category)"
   ]
  },
  {
   "cell_type": "code",
   "execution_count": 242,
   "metadata": {},
   "outputs": [],
   "source": [
    "# Import Library (Classification)\n",
    "from sklearn.linear_model import LogisticRegression\n",
    "from sklearn.tree import DecisionTreeClassifier\n",
    "from sklearn.neighbors import KNeighborsClassifier\n",
    "from sklearn.ensemble import RandomForestClassifier\n",
    "from sklearn.model_selection import GridSearchCV,StratifiedKFold,train_test_split, cross_val_score\n",
    "from sklearn.metrics import f1_score, accuracy_score, recall_score, precision_score"
   ]
  },
  {
   "cell_type": "code",
   "execution_count": 243,
   "metadata": {},
   "outputs": [],
   "source": [
    "# Preparing Data Training and Testing\n",
    "x = finaltext\n",
    "y = df['Category']\n",
    "x_train, x_test, y_train, y_test = train_test_split(x, y, stratify=y, test_size=0.2, random_state=2024)"
   ]
  },
  {
   "cell_type": "code",
   "execution_count": 244,
   "metadata": {},
   "outputs": [],
   "source": [
    "# Model Selection (Classification)\n",
    "logreg = LogisticRegression()\n",
    "knn = KNeighborsClassifier()\n",
    "dt = DecisionTreeClassifier()\n",
    "rf = RandomForestClassifier()"
   ]
  },
  {
   "cell_type": "markdown",
   "metadata": {},
   "source": [
    "### Model Benchmarking : K-Fold"
   ]
  },
  {
   "cell_type": "code",
   "execution_count": 245,
   "metadata": {},
   "outputs": [
    {
     "data": {
      "text/html": [
       "<div>\n",
       "<style scoped>\n",
       "    .dataframe tbody tr th:only-of-type {\n",
       "        vertical-align: middle;\n",
       "    }\n",
       "\n",
       "    .dataframe tbody tr th {\n",
       "        vertical-align: top;\n",
       "    }\n",
       "\n",
       "    .dataframe thead th {\n",
       "        text-align: right;\n",
       "    }\n",
       "</style>\n",
       "<table border=\"1\" class=\"dataframe\">\n",
       "  <thead>\n",
       "    <tr style=\"text-align: right;\">\n",
       "      <th></th>\n",
       "      <th>mean accuracy</th>\n",
       "      <th>sdev</th>\n",
       "    </tr>\n",
       "    <tr>\n",
       "      <th>model</th>\n",
       "      <th></th>\n",
       "      <th></th>\n",
       "    </tr>\n",
       "  </thead>\n",
       "  <tbody>\n",
       "    <tr>\n",
       "      <th>Logistic Regression</th>\n",
       "      <td>0.645702</td>\n",
       "      <td>0.014395</td>\n",
       "    </tr>\n",
       "    <tr>\n",
       "      <th>Random Forest</th>\n",
       "      <td>0.624043</td>\n",
       "      <td>0.026637</td>\n",
       "    </tr>\n",
       "    <tr>\n",
       "      <th>Decision Tree</th>\n",
       "      <td>0.587854</td>\n",
       "      <td>0.037652</td>\n",
       "    </tr>\n",
       "    <tr>\n",
       "      <th>KNN</th>\n",
       "      <td>0.528432</td>\n",
       "      <td>0.016438</td>\n",
       "    </tr>\n",
       "  </tbody>\n",
       "</table>\n",
       "</div>"
      ],
      "text/plain": [
       "                     mean accuracy      sdev\n",
       "model                                       \n",
       "Logistic Regression       0.645702  0.014395\n",
       "Random Forest             0.624043  0.026637\n",
       "Decision Tree             0.587854  0.037652\n",
       "KNN                       0.528432  0.016438"
      ]
     },
     "execution_count": 245,
     "metadata": {},
     "output_type": "execute_result"
    }
   ],
   "source": [
    "models = [logreg,knn,dt,rf]\n",
    "score=[]\n",
    "rata=[]\n",
    "std=[]\n",
    "\n",
    "for i in models:\n",
    "    skfold=StratifiedKFold(n_splits=5)\n",
    "    model_cv=cross_val_score(i,x_train,y_train,cv=skfold,scoring='accuracy')\n",
    "    score.append(model_cv)\n",
    "    rata.append(model_cv.mean())\n",
    "    std.append(model_cv.std())\n",
    "    \n",
    "pd.DataFrame({'model':['Logistic Regression', 'KNN', 'Decision Tree', 'Random Forest'],'mean accuracy':rata,'sdev':std}).set_index('model').sort_values(by='mean accuracy',ascending=False)"
   ]
  },
  {
   "cell_type": "code",
   "execution_count": 246,
   "metadata": {},
   "outputs": [
    {
     "name": "stdout",
     "output_type": "stream",
     "text": [
      "0.6317907444668008\n"
     ]
    }
   ],
   "source": [
    "from sklearn.metrics import accuracy_score\n",
    "\n",
    "clf = LogisticRegression()\n",
    "clf.fit(x_train,y_train)\n",
    "ypred = clf.predict(x_test)\n",
    "print(accuracy_score(ypred,y_test))"
   ]
  },
  {
   "cell_type": "markdown",
   "metadata": {},
   "source": [
    "## Modeling & Evaluation (Predicting Label)"
   ]
  },
  {
   "cell_type": "code",
   "execution_count": 247,
   "metadata": {},
   "outputs": [],
   "source": [
    "# Import Library (Regression)\n",
    "from sklearn.linear_model import LinearRegression\n",
    "from sklearn.neighbors import KNeighborsRegressor\n",
    "from sklearn.tree import DecisionTreeRegressor\n",
    "from sklearn.ensemble import RandomForestRegressor\n",
    "\n",
    "from sklearn.model_selection import train_test_split, cross_val_score, RandomizedSearchCV, GridSearchCV, KFold\n",
    "\n",
    "from sklearn.metrics import r2_score, mean_squared_error, mean_absolute_error, mean_absolute_percentage_error"
   ]
  },
  {
   "cell_type": "code",
   "execution_count": 248,
   "metadata": {},
   "outputs": [],
   "source": [
    "# Preparing Data Training and Testing\n",
    "x = finaltext\n",
    "y = df['Label']\n",
    "x_train, x_test, y_train, y_test = train_test_split(x, y, stratify=y, test_size=0.2, random_state=2024)"
   ]
  },
  {
   "cell_type": "markdown",
   "metadata": {},
   "source": [
    "Since the output is a probability (values between 0 and 1), we'll use logistic regression as our prediction model"
   ]
  },
  {
   "cell_type": "markdown",
   "metadata": {},
   "source": [
    "### Prediction model"
   ]
  },
  {
   "cell_type": "code",
   "execution_count": 249,
   "metadata": {},
   "outputs": [
    {
     "name": "stdout",
     "output_type": "stream",
     "text": [
      "0.7002012072434608\n"
     ]
    },
    {
     "data": {
      "text/plain": [
       "array([0.27819281, 0.26806649, 0.24893508, 0.31624762, 0.27345449,\n",
       "       0.299385  , 0.28955587, 0.27784615, 0.22366716, 0.30468491,\n",
       "       0.36693663, 0.22355217, 0.33188411, 0.28174472, 0.33858343,\n",
       "       0.36437705, 0.25263357, 0.20175478, 0.39678615, 0.34440803,\n",
       "       0.33554614, 0.31658072, 0.28074168, 0.27029835, 0.29530373,\n",
       "       0.41179247, 0.35770775, 0.33150374, 0.34012861, 0.22492473,\n",
       "       0.33151017, 0.21933   , 0.32957241, 0.41221412, 0.39377672,\n",
       "       0.3692756 , 0.36515801, 0.37937422, 0.24400998, 0.27710045,\n",
       "       0.23954583, 0.40330415, 0.29954823, 0.19563338, 0.26393336,\n",
       "       0.25933848, 0.29264151, 0.30406627, 0.29482451, 0.39151572,\n",
       "       0.19308105, 0.31483052, 0.29566965, 0.32674996, 0.26175953,\n",
       "       0.19371041, 0.24645104, 0.25674508, 0.27879892, 0.29157736,\n",
       "       0.38104484, 0.32427129, 0.37220395, 0.27513751, 0.25899524,\n",
       "       0.23477284, 0.31769482, 0.25684068, 0.23731928, 0.2954436 ,\n",
       "       0.36672481, 0.3254136 , 0.40689777, 0.31593728, 0.26123068,\n",
       "       0.35388577, 0.31376826, 0.30352686, 0.30122632, 0.32061619,\n",
       "       0.25684537, 0.2544555 , 0.31077171, 0.35969604, 0.36492376,\n",
       "       0.34174636, 0.30891803, 0.27198724, 0.26186056, 0.3513164 ,\n",
       "       0.30449731, 0.32057595, 0.25613271, 0.32641516, 0.25308526,\n",
       "       0.28887996, 0.372473  , 0.32150731, 0.29143855, 0.3762687 ,\n",
       "       0.3643823 , 0.26494434, 0.2607266 , 0.38072607, 0.27889227,\n",
       "       0.2369499 , 0.22710933, 0.25359438, 0.29490516, 0.33215831,\n",
       "       0.28655539, 0.27556259, 0.40490463, 0.34033716, 0.31811602,\n",
       "       0.31994454, 0.30188101, 0.35510603, 0.24223422, 0.25217246,\n",
       "       0.2941181 , 0.25883285, 0.37467869, 0.30311369, 0.29186595,\n",
       "       0.23058401, 0.34533465, 0.29902341, 0.33134035, 0.32945183,\n",
       "       0.39109542, 0.30311591, 0.29965213, 0.33944033, 0.31249035,\n",
       "       0.26085215, 0.29357277, 0.36216289, 0.31802366, 0.23247904,\n",
       "       0.25528566, 0.25261786, 0.27622955, 0.29250154, 0.23611024,\n",
       "       0.2806324 , 0.29077085, 0.30725976, 0.23440754, 0.20876131,\n",
       "       0.36242269, 0.32746101, 0.26395435, 0.33767369, 0.36216926,\n",
       "       0.23206135, 0.29728781, 0.27979484, 0.24817387, 0.28122052,\n",
       "       0.2879368 , 0.24424907, 0.18098691, 0.29487894, 0.3731682 ,\n",
       "       0.23014385, 0.19668063, 0.38342464, 0.31293809, 0.29649421,\n",
       "       0.32049388, 0.22598509, 0.31038704, 0.30094187, 0.27801643,\n",
       "       0.23656689, 0.24671156, 0.31587386, 0.40222514, 0.32218395,\n",
       "       0.26234549, 0.36218123, 0.28264338, 0.24709607, 0.43151562,\n",
       "       0.32457326, 0.34525539, 0.21553795, 0.37773388, 0.30012125,\n",
       "       0.29400635, 0.2721584 , 0.33681582, 0.30849756, 0.37497214,\n",
       "       0.31032642, 0.28169406, 0.33437628, 0.22377052, 0.29252387,\n",
       "       0.31818228, 0.30760417, 0.29181138, 0.37535502, 0.280216  ,\n",
       "       0.2814312 , 0.32490157, 0.3300085 , 0.32039476, 0.30698812,\n",
       "       0.24489692, 0.23224442, 0.27729877, 0.29706535, 0.25715971,\n",
       "       0.28212177, 0.32916603, 0.24925029, 0.30039899, 0.24565259,\n",
       "       0.25999197, 0.31582137, 0.30565332, 0.34608979, 0.20461552,\n",
       "       0.237619  , 0.29924283, 0.21479655, 0.30642944, 0.31095493,\n",
       "       0.2853741 , 0.28564719, 0.3509077 , 0.26785588, 0.3362763 ,\n",
       "       0.3655268 , 0.31836457, 0.27564099, 0.24177538, 0.28055773,\n",
       "       0.26457646, 0.3047877 , 0.25399844, 0.24182978, 0.27484901,\n",
       "       0.25385106, 0.33455576, 0.29505883, 0.31747051, 0.27931716,\n",
       "       0.31337882, 0.45295554, 0.32612385, 0.31217159, 0.3722226 ,\n",
       "       0.32912372, 0.29982462, 0.18205497, 0.19747503, 0.30197589,\n",
       "       0.36044691, 0.26317994, 0.23499543, 0.30777999, 0.31285043,\n",
       "       0.25366645, 0.2618162 , 0.30272182, 0.27893264, 0.33461967,\n",
       "       0.26250116, 0.37235829, 0.29839676, 0.22238347, 0.31118627,\n",
       "       0.31803628, 0.28575156, 0.3153036 , 0.23389891, 0.289354  ,\n",
       "       0.22539128, 0.26283449, 0.33677777, 0.33731263, 0.27279107,\n",
       "       0.36742777, 0.34855737, 0.37603382, 0.38453431, 0.25882355,\n",
       "       0.30632887, 0.25087535, 0.29233127, 0.32401064, 0.24237406,\n",
       "       0.30092211, 0.33957045, 0.29060363, 0.30618404, 0.23313419,\n",
       "       0.22233337, 0.32075705, 0.37073131, 0.37144894, 0.29279814,\n",
       "       0.35182229, 0.24045848, 0.29162921, 0.25911188, 0.36222823,\n",
       "       0.34204109, 0.2803647 , 0.29176439, 0.42218352, 0.20318879,\n",
       "       0.25240286, 0.25373903, 0.29794447, 0.30977384, 0.28351074,\n",
       "       0.29516368, 0.23094893, 0.29105606, 0.20725595, 0.35308447,\n",
       "       0.25982824, 0.38332052, 0.30732956, 0.30243792, 0.3002292 ,\n",
       "       0.28575117, 0.33223415, 0.31865904, 0.2685224 , 0.2606553 ,\n",
       "       0.33818442, 0.32953556, 0.40443184, 0.30254302, 0.28587173,\n",
       "       0.26932203, 0.29084344, 0.25381834, 0.30468998, 0.22596952,\n",
       "       0.28811947, 0.30258855, 0.27844199, 0.24224109, 0.28624689,\n",
       "       0.28856199, 0.22793816, 0.22537792, 0.27325102, 0.46229383,\n",
       "       0.46553512, 0.31255607, 0.24626936, 0.4066299 , 0.34958763,\n",
       "       0.30435115, 0.25309744, 0.32186828, 0.31640086, 0.3711587 ,\n",
       "       0.30220637, 0.29298308, 0.34157222, 0.31758838, 0.31108286,\n",
       "       0.34612   , 0.18491983, 0.33071641, 0.29014747, 0.31698953,\n",
       "       0.28650309, 0.41376198, 0.25181624, 0.35771462, 0.33655719,\n",
       "       0.30719179, 0.24970001, 0.29473655, 0.30309043, 0.29159584,\n",
       "       0.39669032, 0.26610846, 0.27162336, 0.27104287, 0.25172422,\n",
       "       0.24377314, 0.23527985, 0.26249687, 0.22521878, 0.33554359,\n",
       "       0.22662064, 0.33050849, 0.23886033, 0.21277106, 0.21300157,\n",
       "       0.22445502, 0.23114738, 0.27014618, 0.28845359, 0.23870843,\n",
       "       0.24710961, 0.29624825, 0.35594928, 0.26164216, 0.24794323,\n",
       "       0.27639737, 0.30858289, 0.22596162, 0.28587818, 0.30091313,\n",
       "       0.31495104, 0.34144968, 0.28692314, 0.26969287, 0.29614426,\n",
       "       0.2892419 , 0.21481174, 0.33958742, 0.21474918, 0.28901406,\n",
       "       0.28318254, 0.35062485, 0.26351667, 0.29954125, 0.34125154,\n",
       "       0.23881371, 0.19937383, 0.34684915, 0.32348023, 0.21932139,\n",
       "       0.33535753, 0.33215023, 0.28583002, 0.35977281, 0.30383015,\n",
       "       0.444904  , 0.27372273, 0.29638691, 0.34946061, 0.36706871,\n",
       "       0.27400448, 0.36101625, 0.32948819, 0.31456453, 0.25486336,\n",
       "       0.34605756, 0.29354863, 0.35754023, 0.33330618, 0.26349973,\n",
       "       0.24835881, 0.25069225, 0.27031969, 0.26525834, 0.21818308,\n",
       "       0.37081921, 0.37109559, 0.30048515, 0.32369492, 0.2607533 ,\n",
       "       0.40752709, 0.38499454, 0.2000965 , 0.28227853, 0.38070683,\n",
       "       0.23461807, 0.34608139, 0.28790296, 0.30088893, 0.19966726,\n",
       "       0.26196405, 0.25963734, 0.30233255, 0.26207031, 0.35811628,\n",
       "       0.29932393, 0.32523734, 0.34483015, 0.23637387, 0.33294593,\n",
       "       0.3702633 , 0.34370873, 0.25665632, 0.23465207, 0.31494871,\n",
       "       0.32900245, 0.30028624, 0.37021505, 0.2591594 , 0.24787504,\n",
       "       0.31866825, 0.38676959])"
      ]
     },
     "execution_count": 249,
     "metadata": {},
     "output_type": "execute_result"
    }
   ],
   "source": [
    "rgr = LogisticRegression()\n",
    "rgr.fit(x_train,y_train)\n",
    "# Make predictions and get probabilities for the positive class\n",
    "ypred = rgr.predict_proba(x_test)[:,1] \n",
    "\n",
    "# Apply threshold using vectorized operation (more efficient)\n",
    "threshold = 0.5\n",
    "ypred_test = (ypred >= threshold).astype(int)\n",
    "\n",
    "#Check accuracy\n",
    "print(accuracy_score(ypred_test,y_test))\n",
    "ypred"
   ]
  },
  {
   "cell_type": "markdown",
   "metadata": {},
   "source": [
    "## App preparation"
   ]
  },
  {
   "cell_type": "code",
   "execution_count": 254,
   "metadata": {},
   "outputs": [],
   "source": [
    "# Saving our tf-idf funtion and our clf trained models for later use\n",
    "import pickle\n",
    "pickle.dump(tfidf, open('tfidf.pkl','wb'))\n",
    "pickle.dump(clf, open('clf.pkl','wb'))\n",
    "pickle.dump(rgr, open('rgr.pkl','wb'))"
   ]
  },
  {
   "cell_type": "code",
   "execution_count": 259,
   "metadata": {},
   "outputs": [],
   "source": [
    "myresume = df['Resume_str'][700]"
   ]
  },
  {
   "cell_type": "code",
   "execution_count": 260,
   "metadata": {},
   "outputs": [
    {
     "name": "stdout",
     "output_type": "stream",
     "text": [
      "Predicted Category: HEALTHCARE\n",
      "Predicted Label: 0.34231873761778214\n"
     ]
    }
   ],
   "source": [
    "import pickle\n",
    "\n",
    "# Load the trained classifier\n",
    "clf = pickle.load(open('clf.pkl','rb'))\n",
    "rgr = pickle.load(open('rgr.pkl','rb'))\n",
    "tfidf = pickle.load(open('tfidf.pkl','rb'))\n",
    "\n",
    "# Clean the input resume\n",
    "input_resume = cleanResume(myresume)\n",
    "\n",
    "# Transform the input resume using trained Tf-idf\n",
    "input_finaltext = tfidf.transform([input_resume])\n",
    "\n",
    "# Make predictions using the loaded classifier\n",
    "predict_category = clf.predict(input_finaltext)[0]\n",
    "predict_label = rgr.predict_proba(input_finaltext)[:,1][0]\n",
    "\n",
    "print('Predicted Category:', predict_category)\n",
    "print('Predicted Label:', predict_label)"
   ]
  }
 ],
 "metadata": {
  "kernelspec": {
   "display_name": "Python 3",
   "language": "python",
   "name": "python3"
  },
  "language_info": {
   "codemirror_mode": {
    "name": "ipython",
    "version": 3
   },
   "file_extension": ".py",
   "mimetype": "text/x-python",
   "name": "python",
   "nbconvert_exporter": "python",
   "pygments_lexer": "ipython3",
   "version": "3.13.0"
  }
 },
 "nbformat": 4,
 "nbformat_minor": 2
}
