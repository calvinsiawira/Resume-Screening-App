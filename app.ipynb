{
 "cells": [
  {
   "cell_type": "code",
   "execution_count": 55,
   "metadata": {},
   "outputs": [],
   "source": [
    "#%pip install gradio\n",
    "#%pip install PyPDF2"
   ]
  },
  {
   "cell_type": "code",
   "execution_count": 56,
   "metadata": {},
   "outputs": [],
   "source": [
    "import gradio as gr"
   ]
  },
  {
   "cell_type": "code",
   "execution_count": 57,
   "metadata": {},
   "outputs": [],
   "source": [
    "import re\n",
    "import pickle\n",
    "import pandas as pd\n",
    "import PyPDF2"
   ]
  },
  {
   "cell_type": "code",
   "execution_count": 62,
   "metadata": {},
   "outputs": [
    {
     "name": "stdout",
     "output_type": "stream",
     "text": [
      "* Running on local URL:  http://127.0.0.1:7875\n",
      "* Running on public URL: https://7cfa24f486fa260a40.gradio.live\n",
      "\n",
      "This share link expires in 72 hours. For free permanent hosting and GPU upgrades, run `gradio deploy` from the terminal in the working directory to deploy to Hugging Face Spaces (https://huggingface.co/spaces)\n"
     ]
    },
    {
     "data": {
      "text/html": [
       "<div><iframe src=\"https://7cfa24f486fa260a40.gradio.live\" width=\"100%\" height=\"500\" allow=\"autoplay; camera; microphone; clipboard-read; clipboard-write;\" frameborder=\"0\" allowfullscreen></iframe></div>"
      ],
      "text/plain": [
       "<IPython.core.display.HTML object>"
      ]
     },
     "metadata": {},
     "output_type": "display_data"
    },
    {
     "data": {
      "text/plain": []
     },
     "execution_count": 62,
     "metadata": {},
     "output_type": "execute_result"
    }
   ],
   "source": [
    "#Loading models\n",
    "clf = pickle.load(open('clf.pkl','rb'))\n",
    "rgr = pickle.load(open('rgr.pkl','rb'))\n",
    "tfidf = pickle.load(open('tfidf.pkl','rb'))\n",
    "\n",
    "\n",
    "def read_file(resume_text):\n",
    "  pdfFileObject = open(resume_text, 'rb')\n",
    "  pdfReader = PyPDF2.PdfReader(pdfFileObject)\n",
    "  count = len(pdfReader.pages)\n",
    "  for i in range(count):\n",
    "    page = pdfReader.pages[i]\n",
    "    output=[]\n",
    "    output.append(page.extract_text())\n",
    "  return output[0]\n",
    "\n",
    "def clean_resume(resume_text):\n",
    "    #URls: start with http, then matches one or more non-white space characters\n",
    "    cleanTxt = re.sub('http\\\\S+',' ', resume_text)  \n",
    "    #Hashtags: start with #, then matches one or more non-white space characters\n",
    "    cleanTxt = re.sub('#\\\\S+',' ', cleanTxt)\n",
    "    #Mentions: start with #, then matches one or more non-white space characters\n",
    "    cleanTxt = re.sub('@\\\\S+',' ', cleanTxt)\n",
    "    #Remove punctuation marks and other special characters from the text\n",
    "    cleanTxt = re.sub(r'[^\\w\\s]', ' ', cleanTxt)\n",
    "    #Remove any non-ASCII characters \n",
    "    cleanTxt = re.sub(r'[^\\x00-\\x7f]',' ', cleanTxt)    \n",
    "    #Substitute 1 or more than 1 white space with 1 space\n",
    "    cleanTxt = re.sub('\\\\s+',' ', cleanTxt)\n",
    "    return cleanTxt\n",
    "\n",
    "def predict_category(resume_text):\n",
    "  read_resume = read_file(resume_text)\n",
    "  cleaned_resume = clean_resume(read_resume)\n",
    "  input_features = tfidf.transform([cleaned_resume])\n",
    "  prediction = clf.predict(input_features)[0]\n",
    "  predict_label = rgr.predict_proba(input_features)[:,1][0]\n",
    "  predict_label_percentage = predict_label * 100\n",
    "  return prediction, f\"{predict_label_percentage:.2f}%\"\n",
    "\n",
    "interface = gr.Interface(\n",
    "    fn=predict_category,\n",
    "    inputs=\"file\",\n",
    "    outputs=[\n",
    "        gr.Textbox(label=\"Predicted Category\"),\n",
    "        gr.Textbox(label=\"Probability of Success\")  # Format probability to 2 decimal places\n",
    "    ],\n",
    "    title=\"Resume Screening App\",\n",
    "    description=\"Upload your resume to get a category prediction and success probability prediction.\",\n",
    ")\n",
    "\n",
    "interface.launch(share=True)"
   ]
  }
 ],
 "metadata": {
  "kernelspec": {
   "display_name": "Python 3",
   "language": "python",
   "name": "python3"
  },
  "language_info": {
   "codemirror_mode": {
    "name": "ipython",
    "version": 3
   },
   "file_extension": ".py",
   "mimetype": "text/x-python",
   "name": "python",
   "nbconvert_exporter": "python",
   "pygments_lexer": "ipython3",
   "version": "3.13.0"
  }
 },
 "nbformat": 4,
 "nbformat_minor": 2
}
